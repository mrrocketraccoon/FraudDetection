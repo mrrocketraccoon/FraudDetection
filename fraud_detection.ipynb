{
 "cells": [
  {
   "cell_type": "code",
   "execution_count": 11,
   "metadata": {},
   "outputs": [],
   "source": [
    "import pandas as pd\n",
    "from sklearn.model_selection import StratifiedShuffleSplit\n",
    "from sklearn.linear_model import LogisticRegression\n",
    "from sklearn.metrics import classification_report\n",
    "from sklearn import preprocessing \n",
    "\n",
    "# Read the CSV file\n",
    "df = pd.read_csv('ieee-fraud-detection/train_transaction.csv')\n",
    "# Fill in NaN values\n",
    "df = df.fillna(0)"
   ]
  },
  {
   "cell_type": "code",
   "execution_count": 12,
   "metadata": {},
   "outputs": [
    {
     "name": "stdout",
     "output_type": "stream",
     "text": [
      "       TransactionID        isFraud  TransactionDT  TransactionAmt  \\\n",
      "count   5.905400e+05  590540.000000   5.905400e+05   590540.000000   \n",
      "mean    3.282270e+06       0.034990   7.372311e+06      135.027176   \n",
      "std     1.704744e+05       0.183755   4.617224e+06      239.162522   \n",
      "min     2.987000e+06       0.000000   8.640000e+04        0.251000   \n",
      "25%     3.134635e+06       0.000000   3.027058e+06       43.321000   \n",
      "50%     3.282270e+06       0.000000   7.306528e+06       68.769000   \n",
      "75%     3.429904e+06       0.000000   1.124662e+07      125.000000   \n",
      "max     3.577539e+06       1.000000   1.581113e+07    31937.391000   \n",
      "\n",
      "               card1          card2          card3          card5  \\\n",
      "count  590540.000000  590540.000000  590540.000000  590540.000000   \n",
      "mean     9898.734658     357.071172     152.788941     197.841689   \n",
      "std      4901.170153     162.727883      13.791462      44.420452   \n",
      "min      1000.000000       0.000000       0.000000       0.000000   \n",
      "25%      6019.000000     204.000000     150.000000     166.000000   \n",
      "50%      9678.000000     360.000000     150.000000     226.000000   \n",
      "75%     14184.000000     512.000000     150.000000     226.000000   \n",
      "max     18396.000000     600.000000     231.000000     237.000000   \n",
      "\n",
      "               addr1          addr2  ...           V330           V331  \\\n",
      "count  590540.000000  590540.000000  ...  590540.000000  590540.000000   \n",
      "mean      258.385512      77.142822  ...       0.108196     100.647146   \n",
      "std       132.506081      27.412877  ...       1.785900    2335.112445   \n",
      "min         0.000000       0.000000  ...       0.000000       0.000000   \n",
      "25%       184.000000      87.000000  ...       0.000000       0.000000   \n",
      "50%       272.000000      87.000000  ...       0.000000       0.000000   \n",
      "75%       327.000000      87.000000  ...       0.000000       0.000000   \n",
      "max       540.000000     102.000000  ...      55.000000  160000.000000   \n",
      "\n",
      "                V332           V333           V334           V335  \\\n",
      "count  590540.000000  590540.000000  590540.000000  590540.000000   \n",
      "mean      191.853488     141.489485       1.367592       8.250516   \n",
      "std      4198.067187    2991.618042      91.128152     146.195704   \n",
      "min         0.000000       0.000000       0.000000       0.000000   \n",
      "25%         0.000000       0.000000       0.000000       0.000000   \n",
      "50%         0.000000       0.000000       0.000000       0.000000   \n",
      "75%         0.000000       0.000000       0.000000       0.000000   \n",
      "max    160000.000000  160000.000000   55125.000000   55125.000000   \n",
      "\n",
      "                V336           V337           V338           V339  \n",
      "count  590540.000000  590540.000000  590540.000000  590540.000000  \n",
      "mean        3.978644       7.718914      21.079388      14.042772  \n",
      "std       103.010107     250.367423     412.256263     306.317225  \n",
      "min         0.000000       0.000000       0.000000       0.000000  \n",
      "25%         0.000000       0.000000       0.000000       0.000000  \n",
      "50%         0.000000       0.000000       0.000000       0.000000  \n",
      "75%         0.000000       0.000000       0.000000       0.000000  \n",
      "max     55125.000000  104060.000000  104060.000000  104060.000000  \n",
      "\n",
      "[8 rows x 380 columns]\n"
     ]
    }
   ],
   "source": [
    "#Visualize Dataset's stats\n",
    "print(df.describe())"
   ]
  },
  {
   "cell_type": "code",
   "execution_count": 14,
   "metadata": {},
   "outputs": [],
   "source": [
    "# Extract Features and Targets from Dataset\n",
    "features = ['TransactionAmt'] + ['V%d' % number for number in range(1, 339)]\n",
    "target = 'isFraud'\n",
    "X = df[features]\n",
    "y = df[target]"
   ]
  },
  {
   "cell_type": "code",
   "execution_count": 16,
   "metadata": {},
   "outputs": [
    {
     "name": "stderr",
     "output_type": "stream",
     "text": [
      "/home/q477401/anaconda3/envs/py37/lib/python3.7/site-packages/sklearn/linear_model/logistic.py:432: FutureWarning: Default solver will be changed to 'lbfgs' in 0.22. Specify a solver to silence this warning.\n",
      "  FutureWarning)\n"
     ]
    },
    {
     "name": "stdout",
     "output_type": "stream",
     "text": [
      "              precision    recall  f1-score   support\n",
      "\n",
      "           0       0.97      1.00      0.98    284939\n",
      "           1       0.75      0.16      0.27     10331\n",
      "\n",
      "    accuracy                           0.97    295270\n",
      "   macro avg       0.86      0.58      0.63    295270\n",
      "weighted avg       0.96      0.97      0.96    295270\n",
      "\n"
     ]
    }
   ],
   "source": [
    "#Split Dataset, Train model and print classification report\n",
    "model = LogisticRegression()\n",
    "splitter = StratifiedShuffleSplit(n_splits=1, test_size=0.5, random_state=0)\n",
    "for train_indices, test_indices in splitter.split(X,y):\n",
    "    X_train, y_train = X.iloc[train_indices], y.iloc[train_indices]\n",
    "    X_test, y_test = X.iloc[test_indices], y.iloc[test_indices]\n",
    "    X_train = preprocessing.normalize(X_train)\n",
    "    X_test = preprocessing.normalize(X_test)\n",
    "    model.fit(X_train, y_train)\n",
    "    y_pred = model.predict(X_test)\n",
    "    print(classification_report(y_test, y_pred))"
   ]
  },
  {
   "cell_type": "code",
   "execution_count": null,
   "metadata": {},
   "outputs": [],
   "source": []
  }
 ],
 "metadata": {
  "kernelspec": {
   "display_name": "Python 3",
   "language": "python",
   "name": "python3"
  },
  "language_info": {
   "codemirror_mode": {
    "name": "ipython",
    "version": 3
   },
   "file_extension": ".py",
   "mimetype": "text/x-python",
   "name": "python",
   "nbconvert_exporter": "python",
   "pygments_lexer": "ipython3",
   "version": "3.7.4"
  }
 },
 "nbformat": 4,
 "nbformat_minor": 2
}
